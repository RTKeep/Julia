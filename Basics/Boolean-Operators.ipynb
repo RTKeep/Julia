{
 "cells": [
  {
   "cell_type": "markdown",
   "id": "221b47c1",
   "metadata": {},
   "source": [
    "# Arithmetic Operators ==============================================================================================================\n"
   ]
  },
  {
   "cell_type": "code",
   "execution_count": null,
   "id": "6029384e",
   "metadata": {},
   "outputs": [],
   "source": [
    "# https://docs.julialang.org/en/v1/manual/mathematical-operations/"
   ]
  },
  {
   "cell_type": "markdown",
   "id": "0a867c9f",
   "metadata": {},
   "source": [
    "The following arithmetic operators are supported on all primitive numeric types:\n",
    " \n",
    "<table>\n",
    "  <tr>\n",
    "    <th>Expression</th>\n",
    "    <th>Name</th>\n",
    "    <th>Description</th>\n",
    "  </tr>\n",
    "  <tr>\n",
    "    <td>+x</td>\n",
    "    <td>unary plus</td>\n",
    "    <td>the identity operation</td>\n",
    "  </tr>\n",
    "  <tr>\n",
    "    <td>-x</td>\n",
    "    <td>unary minus</td>\n",
    "    <td>maps values to their additive inverses</td>\n",
    "  </tr>\n",
    "  <tr>\n",
    "    <td>x + y</td>\n",
    "    <td>binary plus</td>\n",
    "    <td>performs addition</td>\n",
    "  </tr>\n",
    "  <tr>\n",
    "    <td>x - y</td>\n",
    "    <td>binary minus</td>\n",
    "    <td>performs subtraction</td>\n",
    "  </tr>\n",
    "  <tr>\n",
    "    <td>x * y</td>\n",
    "    <td>times</td>\n",
    "    <td>performs multiplication</td>\n",
    "  </tr>\n",
    "  <tr>\n",
    "    <td>x / y</td>\n",
    "    <td>divide</td>\n",
    "    <td>performs division</td>\n",
    "  </tr>\n",
    "  <tr>\n",
    "    <td>x ÷ y</td>\n",
    "    <td>integer divide</td>\n",
    "    <td>x / y, truncated to an integer</td>\n",
    "  </tr>\n",
    "  <tr>\n",
    "    <td>x \\ y</td>\n",
    "    <td>inverse divide</td>\n",
    "    <td>equivalent to y / x</td>\n",
    "  </tr>\n",
    "  <tr>\n",
    "    <td>x ^ y</td>\n",
    "    <td>power</td>\n",
    "    <td>raises x to the yth power</td>\n",
    "  </tr>\n",
    "  <tr>\n",
    "    <td>x % y</td>\n",
    "    <td>remainder</td>\n",
    "    <td>equivalent to rem(x,y)</td>\n",
    "  </tr>\n",
    "</table> "
   ]
  },
  {
   "cell_type": "code",
   "execution_count": 24,
   "id": "ec6d8a3e",
   "metadata": {},
   "outputs": [
    {
     "name": "stdout",
     "output_type": "stream",
     "text": [
      "x = -3\n",
      "y = 3\n"
     ]
    }
   ],
   "source": [
    "x = -3\n",
    "y = -x\n",
    "println(\"x = \",x)\n",
    "println(\"y = \",y)"
   ]
  },
  {
   "cell_type": "code",
   "execution_count": 26,
   "id": "7f90bc4e",
   "metadata": {},
   "outputs": [
    {
     "data": {
      "text/plain": [
       "4"
      ]
     },
     "execution_count": 26,
     "metadata": {},
     "output_type": "execute_result"
    }
   ],
   "source": [
    "2 + 2"
   ]
  },
  {
   "cell_type": "code",
   "execution_count": 25,
   "id": "51f0202f",
   "metadata": {},
   "outputs": [
    {
     "data": {
      "text/plain": [
       "0"
      ]
     },
     "execution_count": 25,
     "metadata": {},
     "output_type": "execute_result"
    }
   ],
   "source": [
    "2 - 2"
   ]
  },
  {
   "cell_type": "code",
   "execution_count": 15,
   "id": "c78f4f9c",
   "metadata": {},
   "outputs": [
    {
     "data": {
      "text/plain": [
       "4.0"
      ]
     },
     "execution_count": 15,
     "metadata": {},
     "output_type": "execute_result"
    }
   ],
   "source": [
    "8 / 2"
   ]
  },
  {
   "cell_type": "code",
   "execution_count": 14,
   "id": "c0f39f6c",
   "metadata": {},
   "outputs": [
    {
     "data": {
      "text/plain": [
       "4.0"
      ]
     },
     "execution_count": 14,
     "metadata": {},
     "output_type": "execute_result"
    }
   ],
   "source": [
    "2 \\ 8"
   ]
  },
  {
   "cell_type": "code",
   "execution_count": 8,
   "id": "7365ed2a",
   "metadata": {},
   "outputs": [
    {
     "data": {
      "text/plain": [
       "2"
      ]
     },
     "execution_count": 8,
     "metadata": {},
     "output_type": "execute_result"
    }
   ],
   "source": [
    "div(5, 2)"
   ]
  },
  {
   "cell_type": "code",
   "execution_count": 9,
   "id": "044a63cb",
   "metadata": {},
   "outputs": [
    {
     "data": {
      "text/plain": [
       "1"
      ]
     },
     "execution_count": 9,
     "metadata": {},
     "output_type": "execute_result"
    }
   ],
   "source": [
    "5 % 2"
   ]
  },
  {
   "cell_type": "markdown",
   "id": "bb7bddb9",
   "metadata": {},
   "source": [
    "### Retrieve previous result"
   ]
  },
  {
   "cell_type": "code",
   "execution_count": 11,
   "id": "3e8207c4",
   "metadata": {},
   "outputs": [
    {
     "data": {
      "text/plain": [
       "1"
      ]
     },
     "execution_count": 11,
     "metadata": {},
     "output_type": "execute_result"
    }
   ],
   "source": [
    "ans "
   ]
  }
 ],
 "metadata": {
  "kernelspec": {
   "display_name": "Julia 1.8.5",
   "language": "julia",
   "name": "julia-1.8"
  },
  "language_info": {
   "file_extension": ".jl",
   "mimetype": "application/julia",
   "name": "julia",
   "version": "1.8.5"
  }
 },
 "nbformat": 4,
 "nbformat_minor": 5
}
