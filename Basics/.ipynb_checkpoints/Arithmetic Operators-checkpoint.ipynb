{
 "cells": [
  {
   "cell_type": "markdown",
   "id": "5b17fe7c",
   "metadata": {},
   "source": [
    "# BASICS ==============================================================================================================\n"
   ]
  },
  {
   "cell_type": "code",
   "execution_count": 1,
   "id": "6536ad74",
   "metadata": {},
   "outputs": [
    {
     "name": "stdout",
     "output_type": "stream",
     "text": [
      "Julia Version 1.8.5\n",
      "Commit 17cfb8e65e (2023-01-08 06:45 UTC)\n",
      "Platform Info:\n",
      "  OS: Windows (x86_64-w64-mingw32)\n",
      "  CPU: 16 × Intel(R) Core(TM) i7-10700 CPU @ 2.90GHz\n",
      "  WORD_SIZE: 64\n",
      "  LIBM: libopenlibm\n",
      "  LLVM: libLLVM-13.0.1 (ORCJIT, skylake)\n",
      "  Threads: 1 on 16 virtual cores\n"
     ]
    }
   ],
   "source": [
    "versioninfo()"
   ]
  },
  {
   "cell_type": "code",
   "execution_count": 2,
   "id": "1d0610d9",
   "metadata": {},
   "outputs": [],
   "source": [
    "# Make your life easier by keeping everything in a script. Julia scripts typically have a \".jl\" suffix. You can\n",
    "# execute the contents of a script by using include() or require(), where the latter will only execute the script\n",
    "# once.\n",
    "\n",
    "# Make everybody else's life easier by including comments in your scripts.\n",
    "#=\n",
    "You can also insert longer comments between \"#=\" and \"=#\".\n",
    "...\n",
    "...\n",
    "...\n",
    "...\n",
    "... done!\n",
    "=#\n",
    "\n",
    "# Julia is a fancy calculator (with an absurd number of bells and whistles!).                   "
   ]
  },
  {
   "cell_type": "code",
   "execution_count": null,
   "id": "3257e856",
   "metadata": {},
   "outputs": [],
   "source": [
    "# https://docs.julialang.org/en/v1/manual/mathematical-operations/"
   ]
  },
  {
   "cell_type": "markdown",
   "id": "039441a4",
   "metadata": {},
   "source": [
    "### Arithmetic Operators"
   ]
  },
  {
   "cell_type": "markdown",
   "id": "f681a7c1",
   "metadata": {},
   "source": [
    "The following arithmetic operators are supported on all primitive numeric types:\n",
    " \n",
    "<table>\n",
    "  <tr>\n",
    "    <th>Expression</th>\n",
    "    <th>Name</th>\n",
    "    <th>Description</th>\n",
    "  </tr>\n",
    "  <tr>\n",
    "    <td>+x</td>\n",
    "    <td>unary plus</td>\n",
    "    <td>the identity operation</td>\n",
    "  </tr>\n",
    "  <tr>\n",
    "    <td>-x</td>\n",
    "    <td>unary minus</td>\n",
    "    <td>maps values to their additive inverses</td>\n",
    "  </tr>\n",
    "  <tr>\n",
    "    <td>x + y</td>\n",
    "    <td>binary plus</td>\n",
    "    <td>performs addition</td>\n",
    "  </tr>\n",
    "  <tr>\n",
    "    <td>x - y</td>\n",
    "    <td>binary minus</td>\n",
    "    <td>performs subtraction</td>\n",
    "  </tr>\n",
    "  <tr>\n",
    "    <td>x * y</td>\n",
    "    <td>times</td>\n",
    "    <td>performs multiplication</td>\n",
    "  </tr>\n",
    "  <tr>\n",
    "    <td>x / y</td>\n",
    "    <td>divide</td>\n",
    "    <td>performs division</td>\n",
    "  </tr>\n",
    "  <tr>\n",
    "    <td>x ÷ y</td>\n",
    "    <td>integer divide</td>\n",
    "    <td>x / y, truncated to an integer</td>\n",
    "  </tr>\n",
    "  <tr>\n",
    "    <td>x \\ y</td>\n",
    "    <td>inverse divide</td>\n",
    "    <td>equivalent to y / x</td>\n",
    "  </tr>\n",
    "  <tr>\n",
    "    <td>x ^ y</td>\n",
    "    <td>power</td>\n",
    "    <td>raises x to the yth power</td>\n",
    "  </tr>\n",
    "  <tr>\n",
    "    <td>x % y</td>\n",
    "    <td>remainder</td>\n",
    "    <td>equivalent to rem(x,y)</td>\n",
    "  </tr>\n",
    "</table> "
   ]
  },
  {
   "cell_type": "code",
   "execution_count": 24,
   "id": "86c99168",
   "metadata": {},
   "outputs": [
    {
     "name": "stdout",
     "output_type": "stream",
     "text": [
      "x = -3\n",
      "y = 3\n"
     ]
    }
   ],
   "source": [
    "x = -3\n",
    "y = -x\n",
    "println(\"x = \",x)\n",
    "println(\"y = \",y)"
   ]
  },
  {
   "cell_type": "code",
   "execution_count": 26,
   "id": "5a9fa7a2",
   "metadata": {},
   "outputs": [
    {
     "data": {
      "text/plain": [
       "4"
      ]
     },
     "execution_count": 26,
     "metadata": {},
     "output_type": "execute_result"
    }
   ],
   "source": [
    "2 + 2"
   ]
  },
  {
   "cell_type": "code",
   "execution_count": 25,
   "id": "ae1cebf5",
   "metadata": {},
   "outputs": [
    {
     "data": {
      "text/plain": [
       "0"
      ]
     },
     "execution_count": 25,
     "metadata": {},
     "output_type": "execute_result"
    }
   ],
   "source": [
    "2 - 2"
   ]
  },
  {
   "cell_type": "code",
   "execution_count": 4,
   "id": "d2705b85",
   "metadata": {},
   "outputs": [
    {
     "data": {
      "text/plain": [
       "3.0"
      ]
     },
     "execution_count": 4,
     "metadata": {},
     "output_type": "execute_result"
    }
   ],
   "source": [
    "sqrt(9)"
   ]
  },
  {
   "cell_type": "code",
   "execution_count": 5,
   "id": "f058f4c4",
   "metadata": {},
   "outputs": [
    {
     "data": {
      "text/plain": [
       "6.283185307179586"
      ]
     },
     "execution_count": 5,
     "metadata": {},
     "output_type": "execute_result"
    }
   ],
   "source": [
    "2pi"
   ]
  },
  {
   "cell_type": "code",
   "execution_count": 15,
   "id": "8234dedb",
   "metadata": {},
   "outputs": [
    {
     "data": {
      "text/plain": [
       "4.0"
      ]
     },
     "execution_count": 15,
     "metadata": {},
     "output_type": "execute_result"
    }
   ],
   "source": [
    "8 / 2"
   ]
  },
  {
   "cell_type": "code",
   "execution_count": 14,
   "id": "5cdf1961",
   "metadata": {},
   "outputs": [
    {
     "data": {
      "text/plain": [
       "4.0"
      ]
     },
     "execution_count": 14,
     "metadata": {},
     "output_type": "execute_result"
    }
   ],
   "source": [
    "2 \\ 8"
   ]
  },
  {
   "cell_type": "code",
   "execution_count": 8,
   "id": "e38db887",
   "metadata": {},
   "outputs": [
    {
     "data": {
      "text/plain": [
       "2"
      ]
     },
     "execution_count": 8,
     "metadata": {},
     "output_type": "execute_result"
    }
   ],
   "source": [
    "div(5, 2)"
   ]
  },
  {
   "cell_type": "code",
   "execution_count": 9,
   "id": "51d77f5b",
   "metadata": {},
   "outputs": [
    {
     "data": {
      "text/plain": [
       "1"
      ]
     },
     "execution_count": 9,
     "metadata": {},
     "output_type": "execute_result"
    }
   ],
   "source": [
    "5 % 2"
   ]
  },
  {
   "cell_type": "markdown",
   "id": "1cf8eb90",
   "metadata": {},
   "source": [
    "### Retrieve previous result"
   ]
  },
  {
   "cell_type": "code",
   "execution_count": 11,
   "id": "9c8adcfe",
   "metadata": {},
   "outputs": [
    {
     "data": {
      "text/plain": [
       "1"
      ]
     },
     "execution_count": 11,
     "metadata": {},
     "output_type": "execute_result"
    }
   ],
   "source": [
    "ans "
   ]
  },
  {
   "cell_type": "markdown",
   "id": "ecffa017",
   "metadata": {},
   "source": [
    "## GETTING HELP & INFORMATION ------------------------------------------------------------------------------------------"
   ]
  },
  {
   "cell_type": "code",
   "execution_count": null,
   "id": "5704ab46",
   "metadata": {},
   "outputs": [],
   "source": [
    "# Just hit '?' and then type a function name.\n",
    "apropos(\"cosine\")"
   ]
  }
 ],
 "metadata": {
  "kernelspec": {
   "display_name": "Julia 1.8.5",
   "language": "julia",
   "name": "julia-1.8"
  },
  "language_info": {
   "file_extension": ".jl",
   "mimetype": "application/julia",
   "name": "julia",
   "version": "1.8.5"
  }
 },
 "nbformat": 4,
 "nbformat_minor": 5
}
