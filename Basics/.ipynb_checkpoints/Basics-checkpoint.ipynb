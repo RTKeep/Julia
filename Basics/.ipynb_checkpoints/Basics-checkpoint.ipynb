{
 "cells": [
  {
   "cell_type": "markdown",
   "id": "5b17fe7c",
   "metadata": {},
   "source": [
    "# BASICS ==============================================================================================================\n"
   ]
  },
  {
   "cell_type": "code",
   "execution_count": 1,
   "id": "6536ad74",
   "metadata": {},
   "outputs": [
    {
     "name": "stdout",
     "output_type": "stream",
     "text": [
      "Julia Version 1.8.5\n",
      "Commit 17cfb8e65e (2023-01-08 06:45 UTC)\n",
      "Platform Info:\n",
      "  OS: Windows (x86_64-w64-mingw32)\n",
      "  CPU: 16 × Intel(R) Core(TM) i7-10700 CPU @ 2.90GHz\n",
      "  WORD_SIZE: 64\n",
      "  LIBM: libopenlibm\n",
      "  LLVM: libLLVM-13.0.1 (ORCJIT, skylake)\n",
      "  Threads: 1 on 16 virtual cores\n"
     ]
    }
   ],
   "source": [
    "versioninfo()"
   ]
  },
  {
   "cell_type": "code",
   "execution_count": 2,
   "id": "1d0610d9",
   "metadata": {},
   "outputs": [],
   "source": [
    "# Make your life easier by keeping everything in a script. Julia scripts typically have a \".jl\" suffix. You can\n",
    "# execute the contents of a script by using include() or require(), where the latter will only execute the script\n",
    "# once.\n",
    "\n",
    "# Make everybody else's life easier by including comments in your scripts.\n",
    "#=\n",
    "You can also insert longer comments between \"#=\" and \"=#\".\n",
    "...\n",
    "...\n",
    "...\n",
    "...\n",
    "... done!\n",
    "=#\n",
    "\n",
    "# Julia is a fancy calculator (with an absurd number of bells and whistles!).                   "
   ]
  },
  {
   "cell_type": "markdown",
   "id": "039441a4",
   "metadata": {},
   "source": [
    "### Operators\n",
    "\n",
    "Julia Documentation:\n",
    "- [Mathematical-Operators]\n",
    "- [Arithmetic-Operators]\n",
    "- [Boolean-Operators]\n",
    "- [Bitwise-Operators]\n",
    "\n",
    "Functional Implementation:\n",
    "- [Arithmetic Operations.ipynb]\n",
    "- [Boolean Operations.ipynb]\n",
    "- [Bitwise Operations.ipynb]\n",
    "\n",
    "\n",
    "[Mathematical-Operators]: https://docs.julialang.org/en/v1/manual/mathematical-operations/\n",
    "[Arithmetic-Operators]: https://docs.julialang.org/en/v1/manual/mathematical-operations/#Arithmetic-Operators\n",
    "[Arithmetic Operations.ipynb]: ./Arithmetic-Operators.ipynb\n",
    "[Boolean-Operators]: https://docs.julialang.org/en/v1/manual/mathematical-operations/#Boolean-Operators\n",
    "[Boolean Operations.ipynb]: ./Boolean-Operators.ipynb\n",
    "[Bitwise-Operators]: https://docs.julialang.org/en/v1/manual/mathematical-operations/#Bitwise-Operators\n",
    "[Bitwise Operations.ipynb]: ./Bitwise-Operators.ipynb"
   ]
  },
  {
   "cell_type": "markdown",
   "id": "ecffa017",
   "metadata": {},
   "source": [
    "## GETTING HELP & INFORMATION ------------------------------------------------------------------------------------------"
   ]
  },
  {
   "cell_type": "code",
   "execution_count": 2,
   "id": "5704ab46",
   "metadata": {},
   "outputs": [
    {
     "name": "stdout",
     "output_type": "stream",
     "text": [
      "Base.Math.sincos\n",
      "Base.Math.cosd\n",
      "Base.cosh\n",
      "Base.acosh\n",
      "Base.Math.sincosd\n",
      "Base.Math.acosd\n",
      "Base.Math.sincospi\n",
      "Base.Math.cos_kernel\n",
      "Base.acos\n",
      "Base.cos\n",
      "LinearAlgebra.Givens\n",
      "Base.cos\n",
      "LinearAlgebra.svd\n",
      "Base.Math.sincos\n",
      "Base.acos\n",
      "Base.cosh\n",
      "Base.acosh\n"
     ]
    }
   ],
   "source": [
    "# Just hit '?' and then type a function name.\n",
    "apropos(\"cosine\")"
   ]
  }
 ],
 "metadata": {
  "kernelspec": {
   "display_name": "Julia 1.8.5",
   "language": "julia",
   "name": "julia-1.8"
  },
  "language_info": {
   "file_extension": ".jl",
   "mimetype": "application/julia",
   "name": "julia",
   "version": "1.8.5"
  }
 },
 "nbformat": 4,
 "nbformat_minor": 5
}
