{
 "cells": [
  {
   "cell_type": "markdown",
   "id": "221b47c1",
   "metadata": {},
   "source": [
    "# Bitwise Operators ==============================================================================================================\n"
   ]
  },
  {
   "cell_type": "markdown",
   "id": "0a867c9f",
   "metadata": {},
   "source": [
    "The following \n",
    "<a href=\"https://docs.julialang.org/en/v1/manual/mathematical-operations/#Bitwise-Operators\">bitwise operators</a>\n",
    "are supported on all primitive integer types:\n",
    "<table>\n",
    "  <tr>\n",
    "    <th>Expression</th>\n",
    "    <th>Name</th>\n",
    "  </tr>\n",
    "  <tr>\n",
    "    <td>~x</td>\n",
    "    <td>bitwise not</td>\n",
    "  </tr>\n",
    "  <tr>\n",
    "    <td>x & y</td>\n",
    "    <td>bitwise and</td>\n",
    "  </tr>\n",
    "  <tr>\n",
    "    <td>x | y</td>\n",
    "    <td>bitwise or</td>\n",
    "  </tr>\n",
    "  <tr>\n",
    "    <td>x ⊻ y</td>\n",
    "    <td>bitwise xor (exclusive or)</td>\n",
    "  </tr>\n",
    "  <tr>\n",
    "    <td>x ⊼ y</td>\n",
    "    <td>bitwise nand (not and)</td>\n",
    "  </tr>\n",
    "  <tr>\n",
    "    <td>x ⊽ y</td>\n",
    "    <td>bitwise nor (not or)</td>\n",
    "  </tr>\n",
    "  <tr>\n",
    "    <td>x >>> y</td>\n",
    "    <td>logical shift right</td>\n",
    "  </tr>\n",
    "  <tr>\n",
    "    <td>x >> y</td>\n",
    "    <td>arithmetic shift right</td>\n",
    "  </tr>\n",
    "  <tr>\n",
    "    <td>x << y</td>\n",
    "    <td>logical/arithmetic shift left</td>\n",
    "  </tr>\n",
    "</table> "
   ]
  },
  {
   "cell_type": "code",
   "execution_count": 1,
   "id": "ec6d8a3e",
   "metadata": {},
   "outputs": [
    {
     "data": {
      "text/plain": [
       "-124"
      ]
     },
     "execution_count": 1,
     "metadata": {},
     "output_type": "execute_result"
    }
   ],
   "source": [
    "~123\n",
    "#-124"
   ]
  },
  {
   "cell_type": "code",
   "execution_count": 2,
   "id": "7f90bc4e",
   "metadata": {},
   "outputs": [
    {
     "data": {
      "text/plain": [
       "106"
      ]
     },
     "execution_count": 2,
     "metadata": {},
     "output_type": "execute_result"
    }
   ],
   "source": [
    "123 & 234\n",
    "#106"
   ]
  },
  {
   "cell_type": "code",
   "execution_count": 3,
   "id": "51f0202f",
   "metadata": {},
   "outputs": [
    {
     "data": {
      "text/plain": [
       "251"
      ]
     },
     "execution_count": 3,
     "metadata": {},
     "output_type": "execute_result"
    }
   ],
   "source": [
    "123 | 234\n",
    "#251"
   ]
  },
  {
   "cell_type": "code",
   "execution_count": 4,
   "id": "c78f4f9c",
   "metadata": {},
   "outputs": [
    {
     "data": {
      "text/plain": [
       "145"
      ]
     },
     "execution_count": 4,
     "metadata": {},
     "output_type": "execute_result"
    }
   ],
   "source": [
    "123 ⊻ 234\n",
    "#145"
   ]
  },
  {
   "cell_type": "code",
   "execution_count": 5,
   "id": "c0f39f6c",
   "metadata": {},
   "outputs": [
    {
     "data": {
      "text/plain": [
       "145"
      ]
     },
     "execution_count": 5,
     "metadata": {},
     "output_type": "execute_result"
    }
   ],
   "source": [
    "xor(123, 234)\n",
    "#145"
   ]
  },
  {
   "cell_type": "code",
   "execution_count": 6,
   "id": "7365ed2a",
   "metadata": {},
   "outputs": [
    {
     "data": {
      "text/plain": [
       "-124"
      ]
     },
     "execution_count": 6,
     "metadata": {},
     "output_type": "execute_result"
    }
   ],
   "source": [
    "nand(123, 123)\n",
    "#-124"
   ]
  },
  {
   "cell_type": "code",
   "execution_count": 7,
   "id": "044a63cb",
   "metadata": {},
   "outputs": [
    {
     "data": {
      "text/plain": [
       "-124"
      ]
     },
     "execution_count": 7,
     "metadata": {},
     "output_type": "execute_result"
    }
   ],
   "source": [
    "123 ⊼ 123\n",
    "#-124"
   ]
  },
  {
   "cell_type": "code",
   "execution_count": 8,
   "id": "55de9fd4",
   "metadata": {},
   "outputs": [
    {
     "data": {
      "text/plain": [
       "-128"
      ]
     },
     "execution_count": 8,
     "metadata": {},
     "output_type": "execute_result"
    }
   ],
   "source": [
    "nor(123, 124)\n",
    "#-128"
   ]
  },
  {
   "cell_type": "code",
   "execution_count": 9,
   "id": "f701a68b",
   "metadata": {},
   "outputs": [
    {
     "data": {
      "text/plain": [
       "-128"
      ]
     },
     "execution_count": 9,
     "metadata": {},
     "output_type": "execute_result"
    }
   ],
   "source": [
    "123 ⊽ 124\n",
    "#-128"
   ]
  },
  {
   "cell_type": "code",
   "execution_count": 10,
   "id": "38f9688f",
   "metadata": {},
   "outputs": [
    {
     "data": {
      "text/plain": [
       "0xffffff84"
      ]
     },
     "execution_count": 10,
     "metadata": {},
     "output_type": "execute_result"
    }
   ],
   "source": [
    "~UInt32(123)\n",
    "#0xffffff84"
   ]
  },
  {
   "cell_type": "code",
   "execution_count": 11,
   "id": "160b62f6",
   "metadata": {},
   "outputs": [
    {
     "data": {
      "text/plain": [
       "0x84"
      ]
     },
     "execution_count": 11,
     "metadata": {},
     "output_type": "execute_result"
    }
   ],
   "source": [
    "~UInt8(123)\n",
    "#0x84"
   ]
  },
  {
   "cell_type": "code",
   "execution_count": null,
   "id": "5204852a",
   "metadata": {},
   "outputs": [],
   "source": []
  }
 ],
 "metadata": {
  "kernelspec": {
   "display_name": "Julia 1.8.5",
   "language": "julia",
   "name": "julia-1.8"
  },
  "language_info": {
   "file_extension": ".jl",
   "mimetype": "application/julia",
   "name": "julia",
   "version": "1.8.5"
  }
 },
 "nbformat": 4,
 "nbformat_minor": 5
}
